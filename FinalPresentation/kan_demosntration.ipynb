{
 "cells": [
  {
   "cell_type": "code",
   "execution_count": null,
   "metadata": {},
   "outputs": [],
   "source": [
    "from kan import *\n",
    "import numpy as np\n",
    "import matplotlib.pyplot as plt\n",
    "import sympy as sp\n",
    "from sklearn.datasets import make_moons\n",
    "import pandas as pd\n",
    "from sklearn.model_selection import train_test_split\n",
    "\n",
    "np.random.seed(0)"
   ]
  },
  {
   "cell_type": "markdown",
   "metadata": {},
   "source": [
    "### Usando fórmula"
   ]
  },
  {
   "cell_type": "code",
   "execution_count": null,
   "metadata": {},
   "outputs": [],
   "source": [
    "dataset = {}\n",
    "train_input, train_label = make_moons(n_samples=1000, shuffle=True, noise=0.1, random_state=0)\n",
    "test_input, test_label = make_moons(n_samples=1000, shuffle=True, noise=0.1, random_state=0)\n",
    "\n",
    "dtype = torch.get_default_dtype()\n",
    "dataset['train_input'] = torch.from_numpy(train_input).type(dtype)\n",
    "dataset['test_input'] = torch.from_numpy(test_input).type(dtype)\n",
    "dataset['train_label'] = torch.from_numpy(train_label[:, None]).type(dtype)\n",
    "dataset['test_label'] = torch.from_numpy(test_label[:, None]).type(dtype)\n",
    "\n",
    "X = dataset['train_input']\n",
    "y = dataset['train_label']\n",
    "plt.figure()\n",
    "plt.scatter(dataset['train_input'][:, 0], dataset['train_input'][:, 1], c=dataset['train_label'])\n",
    "plt.title('TRAIN')\n",
    "plt.show()\n",
    "plt.figure()\n",
    "plt.scatter(dataset['test_input'][:, 0], dataset['test_input'][:, 1], c=dataset['test_label'])\n",
    "plt.title('TEST')\n",
    "plt.show()"
   ]
  },
  {
   "cell_type": "code",
   "execution_count": null,
   "metadata": {},
   "outputs": [],
   "source": [
    "# [2,5,1] means 2 inputs, 5 hidden add neurons, and 1 output\n",
    "# [2,[5,2],1] means 2 inputs, 5 hidden add neurons and 2 hidden multiplication neurons, and 1 output.\n",
    "model = KAN(width=[2, 5, 3, 2, 1, 1], grid=3, k=3)\n",
    "\n",
    "\n",
    "model_results = model.fit(dataset, opt=\"LBFGS\", steps=100)"
   ]
  },
  {
   "cell_type": "code",
   "execution_count": null,
   "metadata": {},
   "outputs": [],
   "source": [
    "# model.plot()  # semi quebrado na 0.2.1"
   ]
  },
  {
   "cell_type": "code",
   "execution_count": null,
   "metadata": {},
   "outputs": [],
   "source": [
    "lib = ['x', 'x^2', 'x^3', 'x^4', 'exp', 'log', 'sqrt', 'tanh', 'sin', 'tan', 'abs', 'cos']\n",
    "model.auto_symbolic(lib=lib)  # semi quebrado na 0.2.1: pesa muito o c, se nao passar a lib quase tudo vira 0\n",
    "formula = model.symbolic_formula()[0][0]"
   ]
  },
  {
   "cell_type": "code",
   "execution_count": null,
   "metadata": {},
   "outputs": [],
   "source": [
    "formula"
   ]
  },
  {
   "cell_type": "code",
   "execution_count": null,
   "metadata": {},
   "outputs": [],
   "source": [
    "expr_func = sp.lambdify(['x_1', 'x_2'], formula, \"numpy\")\n",
    "results = expr_func(dataset['test_input'][:, 0], dataset['test_input'][:, 1])\n",
    "plt.figure()\n",
    "plt.scatter(dataset['test_input'][:, 0], dataset['test_input'][:, 1], c=results)  # np.round(results,0)\n",
    "plt.title('PREDICTION')\n",
    "plt.show()"
   ]
  },
  {
   "cell_type": "markdown",
   "metadata": {},
   "source": [
    "### Usando Dataset"
   ]
  },
  {
   "cell_type": "code",
   "execution_count": null,
   "metadata": {},
   "outputs": [],
   "source": [
    "df = pd.read_csv('winequality-red.csv', sep=\";\")\n",
    "df"
   ]
  },
  {
   "cell_type": "code",
   "execution_count": null,
   "metadata": {},
   "outputs": [],
   "source": [
    "X = df.drop(columns=['quality'])\n",
    "y = df['quality']"
   ]
  },
  {
   "cell_type": "code",
   "execution_count": null,
   "metadata": {},
   "outputs": [],
   "source": [
    "X_train, X_test, y_train, y_test = train_test_split(X, y, test_size=0.33, random_state=1)"
   ]
  },
  {
   "cell_type": "code",
   "execution_count": null,
   "metadata": {},
   "outputs": [],
   "source": [
    "dtype = torch.get_default_dtype()\n",
    "\n",
    "dataset = {}\n",
    "dataset['train_input'] = torch.from_numpy(X_train.values).type(dtype)\n",
    "dataset['test_input'] = torch.from_numpy(X_test.values).type(dtype)\n",
    "\n",
    "dataset['train_label'] = torch.from_numpy(y_train.values).type(dtype)\n",
    "dataset['test_label'] = torch.from_numpy(y_test.values).type(dtype)"
   ]
  },
  {
   "cell_type": "code",
   "execution_count": null,
   "metadata": {},
   "outputs": [],
   "source": [
    "model = KAN(width=[X_train.shape[1], 6, 5, 2, 1], grid=3, k=3)\n",
    "\n",
    "\n",
    "model_results = model.fit(dataset, opt=\"LBFGS\", steps=100)"
   ]
  },
  {
   "cell_type": "code",
   "execution_count": null,
   "metadata": {},
   "outputs": [],
   "source": [
    "lib = ['x', 'x^2', 'x^3', 'x^4', 'exp', 'log', 'sqrt', 'tanh', 'sin', 'tan', 'abs', 'cos']\n",
    "model.auto_symbolic(lib=lib)  # semi quebrado na 0.2.1: pesa muito o c, se nao passar a lib quase tudo vira 0\n",
    "formula = model.symbolic_formula()[0][0]"
   ]
  },
  {
   "cell_type": "code",
   "execution_count": null,
   "metadata": {},
   "outputs": [],
   "source": [
    "formula"
   ]
  },
  {
   "cell_type": "code",
   "execution_count": null,
   "metadata": {},
   "outputs": [],
   "source": [
    "results = expr_func(**{f'x_{i+1}': np.array(dataset['test_input'][:, i]) for i in range(X_test.shape[1])})"
   ]
  },
  {
   "cell_type": "code",
   "execution_count": null,
   "metadata": {},
   "outputs": [],
   "source": [
    "plt.figure()\n",
    "plt.scatter(np.arange(y_test.shape[0]), y_test)  # np.round(results,0)\n",
    "plt.scatter(np.arange(y_test.shape[0]), results)\n",
    "plt.title('PREDICTION')\n",
    "plt.show()"
   ]
  },
  {
   "cell_type": "markdown",
   "metadata": {},
   "source": [
    "# Comparando com MLP"
   ]
  }
 ],
 "metadata": {
  "kernelspec": {
   "display_name": "base",
   "language": "python",
   "name": "python3"
  },
  "language_info": {
   "codemirror_mode": {
    "name": "ipython",
    "version": 3
   },
   "file_extension": ".py",
   "mimetype": "text/x-python",
   "name": "python",
   "nbconvert_exporter": "python",
   "pygments_lexer": "ipython3",
   "version": "3.11.9"
  }
 },
 "nbformat": 4,
 "nbformat_minor": 2
}
