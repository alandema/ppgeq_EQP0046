{
 "cells": [
  {
   "cell_type": "code",
   "execution_count": null,
   "metadata": {},
   "outputs": [],
   "source": [
    "from kan import *\n",
    "import numpy as np\n",
    "import matplotlib.pyplot as plt\n",
    "import sympy as sp\n",
    "from sklearn.datasets import make_moons\n",
    "import pandas as pd\n",
    "from sklearn.model_selection import train_test_split\n",
    "from sklearn.preprocessing import OrdinalEncoder\n",
    "np.random.seed(0)"
   ]
  },
  {
   "cell_type": "markdown",
   "metadata": {},
   "source": [
    "### Usando fórmula"
   ]
  },
  {
   "cell_type": "code",
   "execution_count": null,
   "metadata": {},
   "outputs": [],
   "source": [
    "dataset = {}\n",
    "train_input, train_label = make_moons(n_samples=1000, shuffle=True, noise=0.1, random_state=0)\n",
    "test_input, test_label = make_moons(n_samples=1000, shuffle=True, noise=0.1, random_state=0)\n",
    "\n",
    "dtype = torch.get_default_dtype()\n",
    "dataset['train_input'] = torch.from_numpy(train_input).type(dtype)\n",
    "dataset['test_input'] = torch.from_numpy(test_input).type(dtype)\n",
    "dataset['train_label'] = torch.from_numpy(train_label[:,None]).type(dtype)\n",
    "dataset['test_label'] = torch.from_numpy(test_label[:,None]).type(dtype)\n",
    "\n",
    "X = dataset['train_input']\n",
    "y = dataset['train_label']\n",
    "plt.figure()\n",
    "plt.scatter(dataset['train_input'][:, 0], dataset['train_input'][:, 1], c=dataset['train_label'])\n",
    "plt.title('TRAIN')\n",
    "plt.show()\n",
    "plt.figure()\n",
    "plt.scatter(dataset['test_input'][:, 0], dataset['test_input'][:, 1], c=dataset['test_label'])\n",
    "plt.title('TEST')\n",
    "plt.show()"
   ]
  },
  {
   "cell_type": "code",
   "execution_count": null,
   "metadata": {},
   "outputs": [],
   "source": [
    "# [2,5,1] means 2 inputs, 5 hidden add neurons, and 1 output\n",
    "# [2,[5,2],1] means 2 inputs, 5 hidden add neurons and 2 hidden multiplication neurons, and 1 output.\n",
    "# grid é a 'resolução' da spline\n",
    "# k é a ordem polinomial da spline\n",
    "model = KAN(width=[2, 1], grid=3, k=3)\n",
    "\n",
    "def train_acc():\n",
    "    return torch.mean((torch.round(model(dataset['train_input'])[:,0]) == dataset['train_label'][:,0]).type(dtype))\n",
    "\n",
    "def test_acc():\n",
    "    return torch.mean((torch.round(model(dataset['test_input'])[:,0]) == dataset['test_label'][:,0]).type(dtype))\n",
    "\n",
    "model_results = model.fit(dataset, opt=\"LBFGS\", steps=20, metrics=(train_acc, test_acc))"
   ]
  },
  {
   "cell_type": "code",
   "execution_count": null,
   "metadata": {},
   "outputs": [],
   "source": [
    "model.plot()"
   ]
  },
  {
   "cell_type": "code",
   "execution_count": null,
   "metadata": {},
   "outputs": [],
   "source": [
    "lib = ['x', 'x^2', 'x^3', 'x^4', 'exp', 'log', 'sqrt', 'tanh', 'sin', 'tan', 'abs', 'cos']\n",
    "model.auto_symbolic(lib=lib)\n",
    "formula = model.symbolic_formula()[0][0]"
   ]
  },
  {
   "cell_type": "code",
   "execution_count": null,
   "metadata": {},
   "outputs": [],
   "source": [
    "expr_func = sp.lambdify(['x_1', 'x_2'], formula, \"numpy\")\n",
    "results = expr_func(dataset['test_input'][:, 0], dataset['test_input'][:, 1])\n",
    "plt.figure()\n",
    "plt.scatter(dataset['test_input'][:, 0], dataset['test_input'][:, 1], c=results)  # np.round(results,0)\n",
    "plt.title('PREDICTION')\n",
    "plt.show()"
   ]
  },
  {
   "cell_type": "markdown",
   "metadata": {},
   "source": [
    "### Usando Dataset"
   ]
  },
  {
   "cell_type": "code",
   "execution_count": null,
   "metadata": {},
   "outputs": [],
   "source": [
    "df = pd.read_csv('winequality-red.csv', sep=\";\")\n",
    "df"
   ]
  },
  {
   "cell_type": "code",
   "execution_count": null,
   "metadata": {},
   "outputs": [],
   "source": [
    "X = df.drop(columns=['quality'])\n",
    "y = df['quality']"
   ]
  },
  {
   "cell_type": "code",
   "execution_count": null,
   "metadata": {},
   "outputs": [],
   "source": [
    "X_train, X_test, y_train, y_test = train_test_split(X, y, test_size=0.33, random_state=1)"
   ]
  },
  {
   "cell_type": "code",
   "execution_count": null,
   "metadata": {},
   "outputs": [],
   "source": [
    "dtype = torch.get_default_dtype()\n",
    "\n",
    "dataset = {}\n",
    "dataset['train_input'] = torch.from_numpy(X_train.values).type(dtype)\n",
    "dataset['test_input'] = torch.from_numpy(X_test.values).type(dtype)\n",
    "\n",
    "encoder = OrdinalEncoder()\n",
    "encoder.fit_transform(y_train.values.reshape(-1, 1))\n",
    "dataset['train_label'] = torch.from_numpy(encoder.fit_transform(y_train.values.reshape(-1, 1)).flatten()).type(torch.LongTensor)\n",
    "dataset['test_label'] = torch.from_numpy(encoder.transform(y_train.values.reshape(-1, 1)).flatten()).type(torch.LongTensor)"
   ]
  },
  {
   "cell_type": "code",
   "execution_count": null,
   "metadata": {},
   "outputs": [],
   "source": [
    "model = KAN(width=[X_train.shape[1], 6, 6], grid=3, k=3)\n",
    "model_results = model.fit(dataset, opt=\"LBFGS\", steps=100, loss_fn=torch.nn.CrossEntropyLoss())"
   ]
  },
  {
   "cell_type": "code",
   "execution_count": null,
   "metadata": {},
   "outputs": [],
   "source": [
    "model.plot()"
   ]
  },
  {
   "cell_type": "code",
   "execution_count": null,
   "metadata": {},
   "outputs": [],
   "source": [
    "model.prune()\n",
    "model.plot()"
   ]
  },
  {
   "cell_type": "code",
   "execution_count": null,
   "metadata": {},
   "outputs": [],
   "source": [
    "lib = ['x', 'x^2', 'x^3', 'x^4', 'exp', 'log', 'sqrt', 'tanh', 'sin', 'tan', 'abs', 'cos']\n",
    "model.auto_symbolic(lib=lib)"
   ]
  },
  {
   "cell_type": "code",
   "execution_count": null,
   "metadata": {},
   "outputs": [],
   "source": [
    "func1 = model.symbolic_formula()[0][0]\n",
    "expr_func1 = sp.lambdify(list(func1.free_symbols), formula, \"numpy\")\n",
    "results1 = expr_func1(**{symbol.name: np.array(dataset['test_input'][:, i]) for i,symbol in enumerate(ex_round(func1,2).free_symbols)})\n",
    "\n",
    "func2 = model.symbolic_formula()[0][1]\n",
    "expr_func2 = sp.lambdify(list(func2.free_symbols), formula, \"numpy\")\n",
    "results2 = expr_func2(**{symbol.name: np.array(dataset['test_input'][:, i]) for i,symbol in enumerate(ex_round(func2,2).free_symbols)})\n",
    "\n",
    "func3 = model.symbolic_formula()[0][2]\n",
    "expr_func3 = sp.lambdify(list(func3.free_symbols), formula, \"numpy\")\n",
    "results3 = expr_func3(**{symbol.name: np.array(dataset['test_input'][:, i]) for i,symbol in enumerate(ex_round(func3,2).free_symbols)})\n",
    "\n",
    "func4 = model.symbolic_formula()[0][3]\n",
    "expr_func4 = sp.lambdify(list(func4.free_symbols), formula, \"numpy\")\n",
    "results4 = expr_func4(**{symbol.name: np.array(dataset['test_input'][:, i]) for i,symbol in enumerate(ex_round(func4,2).free_symbols)})\n",
    "\n",
    "func5 = model.symbolic_formula()[0][4]\n",
    "expr_func5 = sp.lambdify(list(func5.free_symbols), formula, \"numpy\")\n",
    "results5 = expr_func5(**{symbol.name: np.array(dataset['test_input'][:, i]) for i,symbol in enumerate(ex_round(func5,2).free_symbols)})\n",
    "\n",
    "func6 = model.symbolic_formula()[0][5]\n",
    "expr_func6 = sp.lambdify(list(func6.free_symbols), formula, \"numpy\")\n",
    "results6 = expr_func6(**{symbol.name: np.array(dataset['test_input'][:, i]) for i,symbol in enumerate(ex_round(func6,2).free_symbols)})\n"
   ]
  },
  {
   "cell_type": "code",
   "execution_count": null,
   "metadata": {},
   "outputs": [],
   "source": [
    "y_pred = encoder.inverse_transform(np.argmax([results1, results2, results3, results4, results5, results6], axis=0).reshape(-1, 1)).flatten()"
   ]
  },
  {
   "cell_type": "code",
   "execution_count": null,
   "metadata": {},
   "outputs": [],
   "source": [
    "plt.figure(figsize=(15,5))\n",
    "plt.scatter(np.arange(y_test.shape[0]), y_test)  # np.round(results,0)\n",
    "plt.scatter(np.arange(y_test.shape[0]), y_pred)\n",
    "plt.title('PREDICTION')\n",
    "plt.show()"
   ]
  },
  {
   "cell_type": "code",
   "execution_count": null,
   "metadata": {},
   "outputs": [],
   "source": []
  }
 ],
 "metadata": {
  "kernelspec": {
   "display_name": "base",
   "language": "python",
   "name": "python3"
  },
  "language_info": {
   "codemirror_mode": {
    "name": "ipython",
    "version": 3
   },
   "file_extension": ".py",
   "mimetype": "text/x-python",
   "name": "python",
   "nbconvert_exporter": "python",
   "pygments_lexer": "ipython3",
   "version": "3.10.8"
  }
 },
 "nbformat": 4,
 "nbformat_minor": 2
}
