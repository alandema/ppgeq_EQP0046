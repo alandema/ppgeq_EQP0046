{
 "cells": [
  {
   "cell_type": "markdown",
   "id": "7143546c-d13b-4f0a-8ac7-7598cf857e1d",
   "metadata": {},
   "source": [
    "### Passo 01: Chamada de Pacotes e Bibliotecas\n"
   ]
  },
  {
   "cell_type": "code",
   "execution_count": null,
   "id": "91e9a9bf-d4ee-465e-9c29-bc216bf328ae",
   "metadata": {},
   "outputs": [],
   "source": [
    "import tensorflow as tf\n",
    "from tensorflow.keras import datasets, layers, models\n",
    "import matplotlib.pyplot as plt\n",
    "import numpy as np"
   ]
  },
  {
   "cell_type": "markdown",
   "id": "79384b3e-85b3-469f-b5cb-cb84c2466a46",
   "metadata": {},
   "source": [
    "### Passo 02: Chamada do Banco de dados"
   ]
  },
  {
   "cell_type": "code",
   "execution_count": null,
   "id": "99a74360-7147-468f-8dfd-a70fb1ae41fb",
   "metadata": {},
   "outputs": [],
   "source": [
    "# Carregar o conjunto de dados CIFAR-10\n",
    "(train_images, train_labels), (test_images, test_labels) = datasets.cifar10.load_data()\n",
    "\n",
    "# Normalizar os valores dos pixels (0-255) para o intervalo [0, 1]\n",
    "train_images, test_images = train_images / 255.0, test_images / 255.0"
   ]
  },
  {
   "cell_type": "markdown",
   "id": "4937f03d-9eac-415e-94d9-9f03fdea4497",
   "metadata": {},
   "source": [
    "### Visualização do Banco de dados"
   ]
  },
  {
   "cell_type": "code",
   "execution_count": null,
   "id": "7c41d82e-0013-41f4-a085-f11f41a08b1b",
   "metadata": {},
   "outputs": [],
   "source": [
    "# Visualizar algumas imagens de treino\n",
    "class_names = ['Airplane', 'Automobile', 'Bird', 'Cat', 'Deer', 'Dog', 'Frog', 'Horse', 'Ship', 'Truck']\n",
    "\n",
    "plt.figure(figsize=(10, 10))\n",
    "for i in range(16):\n",
    "    plt.subplot(4, 4, i+1)\n",
    "    plt.xticks([])\n",
    "    plt.yticks([])\n",
    "    plt.grid(False)\n",
    "    plt.imshow(train_images[i])\n",
    "    plt.xlabel(class_names[train_labels[i][0]])\n",
    "plt.show()"
   ]
  },
  {
   "cell_type": "markdown",
   "id": "079255ee-16b7-4061-a45d-d242234ecde4",
   "metadata": {},
   "source": [
    "### Passo 03: Construção do Modelo de Convolutional Neural Network"
   ]
  },
  {
   "cell_type": "code",
   "execution_count": null,
   "id": "4d7bc3bc-d53a-4963-aff9-2ee9ea46c111",
   "metadata": {},
   "outputs": [],
   "source": [
    "# Construção do modelo\n",
    "model = models.Sequential([\n",
    "    layers.Conv2D(32, (3, 3), activation='relu', input_shape=(32, 32, 3)),\n",
    "    layers.MaxPooling2D((2, 2)),\n",
    "    layers.Conv2D(64, (3, 3), activation='relu'),\n",
    "    layers.MaxPooling2D((2, 2)),\n",
    "    layers.Conv2D(64, (3, 3), activation='relu'),\n",
    "    layers.Flatten(),\n",
    "    layers.Dense(64, activation='relu'),\n",
    "    layers.Dense(10)\n",
    "])"
   ]
  },
  {
   "cell_type": "markdown",
   "id": "2a038e7c-787f-406d-89ed-09d161a104ab",
   "metadata": {},
   "source": [
    "### Resumindo o Modelo"
   ]
  },
  {
   "cell_type": "code",
   "execution_count": null,
   "id": "3ce51c86-c234-473b-89bf-eec5a022290c",
   "metadata": {},
   "outputs": [],
   "source": [
    "# Resumo do modelo\n",
    "model.summary()"
   ]
  },
  {
   "cell_type": "markdown",
   "id": "fffd9adb-a732-4ad0-b5a1-10cbe2ec23a9",
   "metadata": {},
   "source": [
    "### Passo 04: Compilação e Treinamento da Rede"
   ]
  },
  {
   "cell_type": "code",
   "execution_count": null,
   "id": "87e719cc-cbd7-4d44-a692-bc7cf431bbed",
   "metadata": {},
   "outputs": [],
   "source": [
    "# Compilação do modelo\n",
    "model.compile(optimizer='adam',\n",
    "              loss=tf.keras.losses.SparseCategoricalCrossentropy(from_logits=True),\n",
    "              metrics=['accuracy'])\n",
    "\n",
    "# Treinamento do modelo\n",
    "history = model.fit(train_images, train_labels, epochs=10, \n",
    "                    validation_data=(test_images, test_labels))\n"
   ]
  },
  {
   "cell_type": "markdown",
   "id": "67b89662-9a00-4f82-8d5b-4b5b2260e3fa",
   "metadata": {},
   "source": [
    "### Passo 05: Avaliação do Modelo"
   ]
  },
  {
   "cell_type": "code",
   "execution_count": null,
   "id": "fd44d575-5dd5-44e2-8e05-c950bd752dc7",
   "metadata": {},
   "outputs": [],
   "source": [
    "# Avaliação do modelo\n",
    "plt.plot(history.history['accuracy'], label='accuracy')\n",
    "plt.plot(history.history['val_accuracy'], label = 'val_accuracy')\n",
    "plt.xlabel('Epoch')\n",
    "plt.ylabel('Accuracy')\n",
    "plt.ylim([0, 1])\n",
    "plt.legend(loc='lower right')\n",
    "plt.show()\n",
    "\n",
    "test_loss, test_acc = model.evaluate(test_images,  test_labels, verbose=2)\n",
    "print(f'Test accuracy: {test_acc}')"
   ]
  },
  {
   "cell_type": "markdown",
   "id": "1f0dd8fa-a3ee-4579-9f3a-591f3bd84e90",
   "metadata": {},
   "source": [
    "### Visualizar o funcionamento e acurácia do modelo"
   ]
  },
  {
   "cell_type": "code",
   "execution_count": null,
   "id": "edcd8eb6-d483-497b-87c3-14902b1763fd",
   "metadata": {},
   "outputs": [],
   "source": [
    "# Testar o modelo com imagens selecionadas\n",
    "def plot_image(i, predictions_array, true_label, img):\n",
    "    predictions_array, true_label, img = predictions_array[i], true_label[i], img[i]\n",
    "    plt.grid(False)\n",
    "    plt.xticks([])\n",
    "    plt.yticks([])\n",
    "\n",
    "    plt.imshow(img, cmap=plt.cm.binary)\n",
    "\n",
    "    predicted_label = np.argmax(predictions_array)\n",
    "    if predicted_label == true_label:\n",
    "        color = 'blue'\n",
    "    else:\n",
    "        color = 'red'\n",
    "\n",
    "    plt.xlabel(\"{} {:2.0f}% ({})\".format(class_names[predicted_label],\n",
    "                                100*np.max(predictions_array),\n",
    "                                class_names[true_label[0]]),\n",
    "                                color=color)\n",
    "\n",
    "def plot_value_array(i, predictions_array, true_label):\n",
    "    predictions_array, true_label = predictions_array[i], true_label[i]\n",
    "    plt.grid(False)\n",
    "    plt.xticks(range(10))\n",
    "    plt.yticks([])\n",
    "    thisplot = plt.bar(range(10), predictions_array, color=\"#777777\")\n",
    "    plt.ylim([0, 1])\n",
    "    predicted_label = np.argmax(predictions_array)\n",
    "\n",
    "    thisplot[predicted_label].set_color('red')\n",
    "    thisplot[true_label[0]].set_color('blue')"
   ]
  },
  {
   "cell_type": "markdown",
   "id": "32ff17d5-77af-4521-be9e-1b5324b010fa",
   "metadata": {},
   "source": [
    "### Passo 06: Fazer Previsões"
   ]
  },
  {
   "cell_type": "code",
   "execution_count": null,
   "id": "3cc9b783-23fb-4456-a79a-9cc00f313ad8",
   "metadata": {},
   "outputs": [],
   "source": [
    "# Fazer previsões\n",
    "probability_model = tf.keras.Sequential([model, tf.keras.layers.Softmax()])\n",
    "predictions = probability_model.predict(test_images)\n",
    "\n",
    "# Plotar algumas imagens junto com as previsões do modelo\n",
    "num_rows = 5\n",
    "num_cols = 3\n",
    "num_images = num_rows * num_cols\n",
    "plt.figure(figsize=(2*2*num_cols, 2*num_rows))\n",
    "for i in range(num_images):\n",
    "    plt.subplot(num_rows, 2*num_cols, 2*i+1)\n",
    "    plot_image(i, predictions, test_labels, test_images)\n",
    "    plt.subplot(num_rows, 2*num_cols, 2*i+2)\n",
    "    plot_value_array(i, predictions, test_labels)\n",
    "plt.tight_layout()\n",
    "plt.show()"
   ]
  },
  {
   "cell_type": "markdown",
   "id": "edc5d520-e982-4d78-8d61-02b903432e12",
   "metadata": {},
   "source": [
    "### Passo 07: Avaliando Novas Imagens"
   ]
  },
  {
   "cell_type": "code",
   "execution_count": null,
   "id": "52c4e7c7-715b-499f-952b-92041cb88d84",
   "metadata": {},
   "outputs": [],
   "source": [
    "from PIL import Image\n",
    "import numpy as np\n",
    "import cv2\n",
    "import imageio\n",
    "\n",
    "path = r\"C:\\Users\\luizp\\OneDrive\\Área de Trabalho\\plane.jpg\"\n",
    "img = imageio.imread(path)\n",
    "\n",
    "img = cv2.resize(img,(32,32))     # resize image to match model's expected sizing\n",
    "img = img.reshape(32,32,3) # return the image with shaping that TF wants.\n",
    "img = np.asarray(img)[None, ...]"
   ]
  },
  {
   "cell_type": "code",
   "execution_count": null,
   "id": "7b68b0ec-9547-453e-bc8d-0c6ff846fb61",
   "metadata": {},
   "outputs": [],
   "source": [
    "# Testar o modelo com imagens selecionadas\n",
    "def plot_image_test(i, predictions_array, true_label, img):\n",
    "    predictions_array, true_label, img = predictions_array[i], true_label[i], img[i]\n",
    "    plt.grid(False)\n",
    "    plt.xticks([])\n",
    "    plt.yticks([])\n",
    "\n",
    "    plt.imshow(img, cmap=plt.cm.binary)\n",
    "\n",
    "    predicted_label = np.argmax(predictions_array)\n",
    "    if predicted_label == true_label:\n",
    "        color = 'blue'\n",
    "    else:\n",
    "        color = 'red'\n",
    "\n",
    "    plt.xlabel(class_names[predicted_label])"
   ]
  },
  {
   "cell_type": "code",
   "execution_count": null,
   "id": "c1c9a8ef-b7fb-43e3-8100-6481ce80338f",
   "metadata": {},
   "outputs": [],
   "source": [
    "# Fazer previsões\n",
    "probability_model = tf.keras.Sequential([model, tf.keras.layers.Softmax()])\n",
    "predictions2 = probability_model.predict(img)"
   ]
  },
  {
   "cell_type": "code",
   "execution_count": null,
   "id": "2baa7c53-95d0-4b07-b254-f10a62620516",
   "metadata": {},
   "outputs": [],
   "source": [
    "plot_image_test(0, predictions2,test_labels,img)"
   ]
  },
  {
   "cell_type": "code",
   "execution_count": null,
   "id": "b1aaf5b0-a436-4b54-ba81-a09b37baa5e2",
   "metadata": {},
   "outputs": [],
   "source": []
  }
 ],
 "metadata": {
  "kernelspec": {
   "display_name": "Python 3 (ipykernel)",
   "language": "python",
   "name": "python3"
  },
  "language_info": {
   "codemirror_mode": {
    "name": "ipython",
    "version": 3
   },
   "file_extension": ".py",
   "mimetype": "text/x-python",
   "name": "python",
   "nbconvert_exporter": "python",
   "pygments_lexer": "ipython3",
   "version": "3.11.7"
  }
 },
 "nbformat": 4,
 "nbformat_minor": 5
}
