{
 "cells": [
  {
   "cell_type": "code",
   "execution_count": 1,
   "metadata": {},
   "outputs": [
    {
     "data": {
      "text/markdown": [
       "This version of Feyn and the QLattice is available for academic, personal, and non-commercial use. By using the community version of this software you agree to the terms and conditions which can be found at https://abzu.ai/eula."
      ],
      "text/plain": [
       "<IPython.core.display.Markdown object>"
      ]
     },
     "metadata": {},
     "output_type": "display_data"
    }
   ],
   "source": [
    "import pandas as pd\n",
    "import matplotlib.pyplot as plt\n",
    "import numpy as np\n",
    "from sklearn.linear_model import LinearRegression, Lasso, Ridge, LassoLarsCV, LassoLarsIC, HuberRegressor\n",
    "from sklearn.model_selection import train_test_split\n",
    "from sklearn.preprocessing import MinMaxScaler\n",
    "from sklearn.feature_selection import RFECV, RFE\n",
    "from sklearn import metrics\n",
    "import feyn"
   ]
  },
  {
   "cell_type": "code",
   "execution_count": 2,
   "metadata": {},
   "outputs": [],
   "source": [
    "df = pd.read_csv('winequality-red.csv',sep=\";\") #gosto mais de vinho tinto"
   ]
  },
  {
   "cell_type": "code",
   "execution_count": 3,
   "metadata": {},
   "outputs": [
    {
     "data": {
      "text/html": [
       "<div>\n",
       "<style scoped>\n",
       "    .dataframe tbody tr th:only-of-type {\n",
       "        vertical-align: middle;\n",
       "    }\n",
       "\n",
       "    .dataframe tbody tr th {\n",
       "        vertical-align: top;\n",
       "    }\n",
       "\n",
       "    .dataframe thead th {\n",
       "        text-align: right;\n",
       "    }\n",
       "</style>\n",
       "<table border=\"1\" class=\"dataframe\">\n",
       "  <thead>\n",
       "    <tr style=\"text-align: right;\">\n",
       "      <th></th>\n",
       "      <th>fixed acidity</th>\n",
       "      <th>volatile acidity</th>\n",
       "      <th>citric acid</th>\n",
       "      <th>residual sugar</th>\n",
       "      <th>chlorides</th>\n",
       "      <th>free sulfur dioxide</th>\n",
       "      <th>total sulfur dioxide</th>\n",
       "      <th>density</th>\n",
       "      <th>pH</th>\n",
       "      <th>sulphates</th>\n",
       "      <th>alcohol</th>\n",
       "      <th>quality</th>\n",
       "    </tr>\n",
       "  </thead>\n",
       "  <tbody>\n",
       "    <tr>\n",
       "      <th>count</th>\n",
       "      <td>1599.000000</td>\n",
       "      <td>1599.000000</td>\n",
       "      <td>1599.000000</td>\n",
       "      <td>1599.000000</td>\n",
       "      <td>1599.000000</td>\n",
       "      <td>1599.000000</td>\n",
       "      <td>1599.000000</td>\n",
       "      <td>1599.000000</td>\n",
       "      <td>1599.000000</td>\n",
       "      <td>1599.000000</td>\n",
       "      <td>1599.000000</td>\n",
       "      <td>1599.000000</td>\n",
       "    </tr>\n",
       "    <tr>\n",
       "      <th>mean</th>\n",
       "      <td>8.319637</td>\n",
       "      <td>0.527821</td>\n",
       "      <td>0.270976</td>\n",
       "      <td>2.538806</td>\n",
       "      <td>0.087467</td>\n",
       "      <td>15.874922</td>\n",
       "      <td>46.467792</td>\n",
       "      <td>0.996747</td>\n",
       "      <td>3.311113</td>\n",
       "      <td>0.658149</td>\n",
       "      <td>10.422983</td>\n",
       "      <td>5.636023</td>\n",
       "    </tr>\n",
       "    <tr>\n",
       "      <th>std</th>\n",
       "      <td>1.741096</td>\n",
       "      <td>0.179060</td>\n",
       "      <td>0.194801</td>\n",
       "      <td>1.409928</td>\n",
       "      <td>0.047065</td>\n",
       "      <td>10.460157</td>\n",
       "      <td>32.895324</td>\n",
       "      <td>0.001887</td>\n",
       "      <td>0.154386</td>\n",
       "      <td>0.169507</td>\n",
       "      <td>1.065668</td>\n",
       "      <td>0.807569</td>\n",
       "    </tr>\n",
       "    <tr>\n",
       "      <th>min</th>\n",
       "      <td>4.600000</td>\n",
       "      <td>0.120000</td>\n",
       "      <td>0.000000</td>\n",
       "      <td>0.900000</td>\n",
       "      <td>0.012000</td>\n",
       "      <td>1.000000</td>\n",
       "      <td>6.000000</td>\n",
       "      <td>0.990070</td>\n",
       "      <td>2.740000</td>\n",
       "      <td>0.330000</td>\n",
       "      <td>8.400000</td>\n",
       "      <td>3.000000</td>\n",
       "    </tr>\n",
       "    <tr>\n",
       "      <th>25%</th>\n",
       "      <td>7.100000</td>\n",
       "      <td>0.390000</td>\n",
       "      <td>0.090000</td>\n",
       "      <td>1.900000</td>\n",
       "      <td>0.070000</td>\n",
       "      <td>7.000000</td>\n",
       "      <td>22.000000</td>\n",
       "      <td>0.995600</td>\n",
       "      <td>3.210000</td>\n",
       "      <td>0.550000</td>\n",
       "      <td>9.500000</td>\n",
       "      <td>5.000000</td>\n",
       "    </tr>\n",
       "    <tr>\n",
       "      <th>50%</th>\n",
       "      <td>7.900000</td>\n",
       "      <td>0.520000</td>\n",
       "      <td>0.260000</td>\n",
       "      <td>2.200000</td>\n",
       "      <td>0.079000</td>\n",
       "      <td>14.000000</td>\n",
       "      <td>38.000000</td>\n",
       "      <td>0.996750</td>\n",
       "      <td>3.310000</td>\n",
       "      <td>0.620000</td>\n",
       "      <td>10.200000</td>\n",
       "      <td>6.000000</td>\n",
       "    </tr>\n",
       "    <tr>\n",
       "      <th>75%</th>\n",
       "      <td>9.200000</td>\n",
       "      <td>0.640000</td>\n",
       "      <td>0.420000</td>\n",
       "      <td>2.600000</td>\n",
       "      <td>0.090000</td>\n",
       "      <td>21.000000</td>\n",
       "      <td>62.000000</td>\n",
       "      <td>0.997835</td>\n",
       "      <td>3.400000</td>\n",
       "      <td>0.730000</td>\n",
       "      <td>11.100000</td>\n",
       "      <td>6.000000</td>\n",
       "    </tr>\n",
       "    <tr>\n",
       "      <th>max</th>\n",
       "      <td>15.900000</td>\n",
       "      <td>1.580000</td>\n",
       "      <td>1.000000</td>\n",
       "      <td>15.500000</td>\n",
       "      <td>0.611000</td>\n",
       "      <td>72.000000</td>\n",
       "      <td>289.000000</td>\n",
       "      <td>1.003690</td>\n",
       "      <td>4.010000</td>\n",
       "      <td>2.000000</td>\n",
       "      <td>14.900000</td>\n",
       "      <td>8.000000</td>\n",
       "    </tr>\n",
       "  </tbody>\n",
       "</table>\n",
       "</div>"
      ],
      "text/plain": [
       "       fixed acidity  volatile acidity  citric acid  residual sugar  \\\n",
       "count    1599.000000       1599.000000  1599.000000     1599.000000   \n",
       "mean        8.319637          0.527821     0.270976        2.538806   \n",
       "std         1.741096          0.179060     0.194801        1.409928   \n",
       "min         4.600000          0.120000     0.000000        0.900000   \n",
       "25%         7.100000          0.390000     0.090000        1.900000   \n",
       "50%         7.900000          0.520000     0.260000        2.200000   \n",
       "75%         9.200000          0.640000     0.420000        2.600000   \n",
       "max        15.900000          1.580000     1.000000       15.500000   \n",
       "\n",
       "         chlorides  free sulfur dioxide  total sulfur dioxide      density  \\\n",
       "count  1599.000000          1599.000000           1599.000000  1599.000000   \n",
       "mean      0.087467            15.874922             46.467792     0.996747   \n",
       "std       0.047065            10.460157             32.895324     0.001887   \n",
       "min       0.012000             1.000000              6.000000     0.990070   \n",
       "25%       0.070000             7.000000             22.000000     0.995600   \n",
       "50%       0.079000            14.000000             38.000000     0.996750   \n",
       "75%       0.090000            21.000000             62.000000     0.997835   \n",
       "max       0.611000            72.000000            289.000000     1.003690   \n",
       "\n",
       "                pH    sulphates      alcohol      quality  \n",
       "count  1599.000000  1599.000000  1599.000000  1599.000000  \n",
       "mean      3.311113     0.658149    10.422983     5.636023  \n",
       "std       0.154386     0.169507     1.065668     0.807569  \n",
       "min       2.740000     0.330000     8.400000     3.000000  \n",
       "25%       3.210000     0.550000     9.500000     5.000000  \n",
       "50%       3.310000     0.620000    10.200000     6.000000  \n",
       "75%       3.400000     0.730000    11.100000     6.000000  \n",
       "max       4.010000     2.000000    14.900000     8.000000  "
      ]
     },
     "execution_count": 3,
     "metadata": {},
     "output_type": "execute_result"
    }
   ],
   "source": [
    "df.describe()"
   ]
  },
  {
   "cell_type": "code",
   "execution_count": 4,
   "metadata": {},
   "outputs": [
    {
     "data": {
      "text/plain": [
       "fixed acidity           False\n",
       "volatile acidity        False\n",
       "citric acid             False\n",
       "residual sugar          False\n",
       "chlorides               False\n",
       "free sulfur dioxide     False\n",
       "total sulfur dioxide    False\n",
       "density                 False\n",
       "pH                      False\n",
       "sulphates               False\n",
       "alcohol                 False\n",
       "quality                 False\n",
       "dtype: bool"
      ]
     },
     "execution_count": 4,
     "metadata": {},
     "output_type": "execute_result"
    }
   ],
   "source": [
    "df.isna().any()"
   ]
  },
  {
   "cell_type": "code",
   "execution_count": 5,
   "metadata": {},
   "outputs": [
    {
     "data": {
      "image/png": "[encoded data removed]",
      "text/plain": [
       "<Figure size 640x480 with 2 Axes>"
      ]
     },
     "metadata": {},
     "output_type": "display_data"
    }
   ],
   "source": [
    "plt.imshow(df.corr(),cmap='seismic')\n",
    "plt.colorbar()\n",
    "plt.gca().set_xticks(np.arange(len(df.columns)))\n",
    "plt.gca().set_yticks(np.arange(len(df.columns)))\n",
    "plt.gca().set_xticklabels(labels=df.columns)\n",
    "plt.gca().set_yticklabels(labels=df.columns)\n",
    "plt.setp(plt.gca().get_xticklabels(), rotation=45, ha=\"right\",\n",
    "         rotation_mode=\"anchor\")\n",
    "plt.tight_layout()\n",
    "plt.show()\n"
   ]
  },
  {
   "cell_type": "code",
   "execution_count": 6,
   "metadata": {},
   "outputs": [],
   "source": [
    "X = df.drop(columns=['quality'])\n",
    "y=df['quality']"
   ]
  },
  {
   "cell_type": "code",
   "execution_count": 7,
   "metadata": {},
   "outputs": [],
   "source": [
    "X_train, X_test,y_train,y_test=train_test_split(X,y)"
   ]
  },
  {
   "cell_type": "code",
   "execution_count": 8,
   "metadata": {},
   "outputs": [],
   "source": [
    "scaler = MinMaxScaler()\n",
    "X_train = scaler.fit_transform(X_train)\n",
    "X_test = scaler.transform(X_test)"
   ]
  },
  {
   "cell_type": "code",
   "execution_count": 9,
   "metadata": {},
   "outputs": [],
   "source": [
    "results = []"
   ]
  },
  {
   "cell_type": "code",
   "execution_count": 10,
   "metadata": {},
   "outputs": [
    {
     "name": "stdout",
     "output_type": "stream",
     "text": [
      "R: 0.3596184851702914\n",
      "MAE: 0.5192093699607553\n",
      "MSE: 0.45313395989350175\n",
      "RMSE: 0.6731522561007293\n"
     ]
    }
   ],
   "source": [
    "name = 'lin_reg'\n",
    "model=LinearRegression()\n",
    "model.fit(X_train,y_train)\n",
    "y_prediction=model.predict(X_test)\n",
    "r = model.score(X_test,y_test)\n",
    "mae = metrics.mean_absolute_error(y_test, y_prediction)\n",
    "mse = metrics.mean_squared_error(y_test, y_prediction)\n",
    "rmse = np.sqrt(metrics.mean_squared_error(y_test, y_prediction))\n",
    "results.append({\"name\": name, \"r\": r, \"mae\": mae, \"mse\": mse, \"rmse\": rmse})\n",
    "print('R:',r)\n",
    "print('MAE:',mae )\n",
    "print('MSE:', mse)\n",
    "print('RMSE:',rmse )"
   ]
  },
  {
   "cell_type": "code",
   "execution_count": 11,
   "metadata": {},
   "outputs": [
    {
     "name": "stdout",
     "output_type": "stream",
     "text": [
      "R: 0.3094916266581692\n",
      "MAE: 0.5501797841804418\n",
      "MSE: 0.48860372497667937\n",
      "RMSE: 0.6990019491937626\n"
     ]
    }
   ],
   "source": [
    "name = \"lasso\"\n",
    "model=Lasso(alpha=0.01)\n",
    "model.fit(X_train,y_train)\n",
    "y_prediction=model.predict(X_test)\n",
    "r = model.score(X_test,y_test)\n",
    "mae = metrics.mean_absolute_error(y_test, y_prediction)\n",
    "mse = metrics.mean_squared_error(y_test, y_prediction)\n",
    "rmse = np.sqrt(metrics.mean_squared_error(y_test, y_prediction))\n",
    "results.append({\"name\": name, \"r\": r, \"mae\": mae, \"mse\": mse, \"rmse\": rmse})\n",
    "print('R:',r)\n",
    "print('MAE:',mae )\n",
    "print('MSE:', mse)\n",
    "print('RMSE:',rmse )"
   ]
  },
  {
   "cell_type": "code",
   "execution_count": 12,
   "metadata": {},
   "outputs": [
    {
     "name": "stdout",
     "output_type": "stream",
     "text": [
      "R: 0.3596720743445745\n",
      "MAE: 0.5192686950325047\n",
      "MSE: 0.453096040193779\n",
      "RMSE: 0.6731240897440672\n"
     ]
    }
   ],
   "source": [
    "name = \"ridge\"\n",
    "model=Ridge(alpha=0.1)\n",
    "model.fit(X_train,y_train)\n",
    "y_prediction=model.predict(X_test)\n",
    "r = model.score(X_test,y_test)\n",
    "mae = metrics.mean_absolute_error(y_test, y_prediction)\n",
    "mse = metrics.mean_squared_error(y_test, y_prediction)\n",
    "rmse = np.sqrt(metrics.mean_squared_error(y_test, y_prediction))\n",
    "results.append({\"name\": name, \"r\": r, \"mae\": mae, \"mse\": mse, \"rmse\": rmse})\n",
    "print('R:',r)\n",
    "print('MAE:',mae )\n",
    "print('MSE:', mse)\n",
    "print('RMSE:',rmse )"
   ]
  },
  {
   "cell_type": "code",
   "execution_count": 13,
   "metadata": {},
   "outputs": [
    {
     "name": "stdout",
     "output_type": "stream",
     "text": [
      "R: 0.35875691504135665\n",
      "MAE: 0.5197285185953049\n",
      "MSE: 0.45374360691673593\n",
      "RMSE: 0.67360493385718\n"
     ]
    }
   ],
   "source": [
    "name = \"rfecv\"\n",
    "regressor = LinearRegression()\n",
    "model = RFECV(regressor, step=1, cv=10)             \n",
    "model = model.fit(X_train, y_train)\n",
    "y_prediction=model.predict(X_test)\n",
    "r = model.score(X_test,y_test)\n",
    "mae = metrics.mean_absolute_error(y_test, y_prediction)\n",
    "mse = metrics.mean_squared_error(y_test, y_prediction)\n",
    "rmse = np.sqrt(metrics.mean_squared_error(y_test, y_prediction))\n",
    "results.append({\"name\": name, \"r\": r, \"mae\": mae, \"mse\": mse, \"rmse\": rmse})\n",
    "print('R:',r)\n",
    "print('MAE:',mae )\n",
    "print('MSE:', mse)\n",
    "print('RMSE:',rmse )"
   ]
  },
  {
   "cell_type": "code",
   "execution_count": 14,
   "metadata": {},
   "outputs": [
    {
     "name": "stdout",
     "output_type": "stream",
     "text": [
      "R: 0.3513962335964923\n",
      "MAE: 0.5261759565299171\n",
      "MSE: 0.458952025107122\n",
      "RMSE: 0.6774599804469058\n"
     ]
    }
   ],
   "source": [
    "name = \"rfe\"\n",
    "regressor = LinearRegression()\n",
    "model = RFE(regressor, n_features_to_select=5, step=1)             \n",
    "model = model.fit(X_train, y_train)\n",
    "y_prediction=model.predict(X_test)\n",
    "r = model.score(X_test,y_test)\n",
    "mae = metrics.mean_absolute_error(y_test, y_prediction)\n",
    "mse = metrics.mean_squared_error(y_test, y_prediction)\n",
    "rmse = np.sqrt(metrics.mean_squared_error(y_test, y_prediction))\n",
    "results.append({\"name\": name, \"r\": r, \"mae\": mae, \"mse\": mse, \"rmse\": rmse})\n",
    "print('R:',r)\n",
    "print('MAE:',mae )\n",
    "print('MSE:', mse)\n",
    "print('RMSE:',rmse )\n"
   ]
  },
  {
   "cell_type": "code",
   "execution_count": 15,
   "metadata": {},
   "outputs": [
    {
     "name": "stdout",
     "output_type": "stream",
     "text": [
      "R: 0.3585321979296128\n",
      "MAE: 0.520493438942812\n",
      "MSE: 0.4539026167450059\n",
      "RMSE: 0.6737229525146119\n"
     ]
    }
   ],
   "source": [
    "name = \"lassolarscv\"\n",
    "model = LassoLarsCV(cv=5).fit(X, y)             \n",
    "model = model.fit(X_train, y_train)\n",
    "y_prediction=model.predict(X_test)\n",
    "r = model.score(X_test,y_test)\n",
    "mae = metrics.mean_absolute_error(y_test, y_prediction)\n",
    "mse = metrics.mean_squared_error(y_test, y_prediction)\n",
    "rmse = np.sqrt(metrics.mean_squared_error(y_test, y_prediction))\n",
    "results.append({\"name\": name, \"r\": r, \"mae\": mae, \"mse\": mse, \"rmse\": rmse})\n",
    "print('R:',r)\n",
    "print('MAE:',mae )\n",
    "print('MSE:', mse)\n",
    "print('RMSE:',rmse )\n"
   ]
  },
  {
   "cell_type": "code",
   "execution_count": 16,
   "metadata": {},
   "outputs": [
    {
     "name": "stdout",
     "output_type": "stream",
     "text": [
      "R: 0.3568181299702793\n",
      "MAE: 0.5224911988433201\n",
      "MSE: 0.45511549123303036\n",
      "RMSE: 0.6746224805274653\n"
     ]
    }
   ],
   "source": [
    "name = \"lassolarsic\"\n",
    "model = LassoLarsIC(criterion='aic')     \n",
    "model = model.fit(X_train, y_train)\n",
    "y_prediction=model.predict(X_test)\n",
    "r = model.score(X_test,y_test)\n",
    "mae = metrics.mean_absolute_error(y_test, y_prediction)\n",
    "mse = metrics.mean_squared_error(y_test, y_prediction)\n",
    "rmse = np.sqrt(metrics.mean_squared_error(y_test, y_prediction))\n",
    "results.append({\"name\": name, \"r\": r, \"mae\": mae, \"mse\": mse, \"rmse\": rmse})\n",
    "print('R:',r)\n",
    "print('MAE:',mae )\n",
    "print('MSE:', mse)\n",
    "print('RMSE:',rmse )\n"
   ]
  },
  {
   "cell_type": "code",
   "execution_count": 17,
   "metadata": {},
   "outputs": [
    {
     "name": "stdout",
     "output_type": "stream",
     "text": [
      "R: 0.34436373654293595\n",
      "MAE: 0.49330568097508776\n",
      "MSE: 0.3977704233127541\n",
      "RMSE: 0.6306904338205505\n"
     ]
    }
   ],
   "source": [
    "name = \"SR\"\n",
    "\n",
    "ql = feyn.connect_qlattice()\n",
    "ql.reset(random_seed=42)\n",
    "\n",
    "train, test = feyn.tools.split(df, ratio=(3,1), random_state=42)\n",
    "\n",
    "\n",
    "stypes = {\n",
    "    'neighbourhood_group': 'c', \n",
    "    'neighbourhood': 'c', \n",
    "    'room_type': 'c'\n",
    "}\n",
    "models = ql.auto_run(\n",
    "    train,\n",
    "    output_name='quality',\n",
    "    stypes=stypes\n",
    "    )\n",
    "best = models[0]\n",
    "best.plot(train, test)\n",
    "\n",
    "r = best.r2_score(test)\n",
    "mae = best.mae(test)\n",
    "mse = best.mse(test)\n",
    "rmse = best.rmse(test)\n",
    "results.append({\"name\": name, \"r\": r, \"mae\": mae, \"mse\": mse, \"rmse\": rmse})\n",
    "print('R:',r)\n",
    "print('MAE:',mae )\n",
    "print('MSE:', mse)\n",
    "print('RMSE:',rmse )"
   ]
  },
  {
   "cell_type": "code",
   "execution_count": 18,
   "metadata": {},
   "outputs": [
    {
     "name": "stdout",
     "output_type": "stream",
     "text": [
      "best result: SR\n"
     ]
    }
   ],
   "source": [
    "best_result = min(results, key=lambda x: x['rmse'])\n",
    "print(\"best result:\",best_result['name'])"
   ]
  }
 ],
 "metadata": {
  "kernelspec": {
   "display_name": "base",
   "language": "python",
   "name": "python3"
  },
  "language_info": {
   "codemirror_mode": {
    "name": "ipython",
    "version": 3
   },
   "file_extension": ".py",
   "mimetype": "text/x-python",
   "name": "python",
   "nbconvert_exporter": "python",
   "pygments_lexer": "ipython3",
   "version": "3.10.8"
  }
 },
 "nbformat": 4,
 "nbformat_minor": 2
}
