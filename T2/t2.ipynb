{
 "cells": [
  {
   "cell_type": "code",
   "execution_count": null,
   "metadata": {},
   "outputs": [],
   "source": [
    "import pandas as pd\n",
    "import matplotlib.pyplot as plt\n",
    "import numpy as np\n",
    "from sklearn.linear_model import LinearRegression, Lasso, Ridge, LassoLarsCV, LassoLarsIC, HuberRegressor\n",
    "from sklearn.model_selection import train_test_split\n",
    "from sklearn.preprocessing import MinMaxScaler\n",
    "from sklearn.feature_selection import RFECV, RFE\n",
    "from sklearn import metrics\n",
    "import feyn"
   ]
  },
  {
   "cell_type": "code",
   "execution_count": null,
   "metadata": {},
   "outputs": [],
   "source": [
    "df = pd.read_csv('winequality-red.csv', sep=\";\")  # gosto mais de vinho tinto"
   ]
  },
  {
   "cell_type": "code",
   "execution_count": null,
   "metadata": {},
   "outputs": [],
   "source": [
    "df.describe()"
   ]
  },
  {
   "cell_type": "code",
   "execution_count": null,
   "metadata": {},
   "outputs": [],
   "source": [
    "df.isna().any()"
   ]
  },
  {
   "cell_type": "code",
   "execution_count": null,
   "metadata": {},
   "outputs": [],
   "source": [
    "plt.imshow(df.corr(), cmap='seismic')\n",
    "plt.colorbar()\n",
    "plt.gca().set_xticks(np.arange(len(df.columns)))\n",
    "plt.gca().set_yticks(np.arange(len(df.columns)))\n",
    "plt.gca().set_xticklabels(labels=df.columns)\n",
    "plt.gca().set_yticklabels(labels=df.columns)\n",
    "plt.setp(plt.gca().get_xticklabels(), rotation=45, ha=\"right\",\n",
    "         rotation_mode=\"anchor\")\n",
    "plt.tight_layout()\n",
    "plt.show()"
   ]
  },
  {
   "cell_type": "code",
   "execution_count": null,
   "metadata": {},
   "outputs": [],
   "source": [
    "X = df.drop(columns=['quality'])\n",
    "y = df['quality']"
   ]
  },
  {
   "cell_type": "code",
   "execution_count": null,
   "metadata": {},
   "outputs": [],
   "source": [
    "X_train, X_test, y_train, y_test = train_test_split(X, y)"
   ]
  },
  {
   "cell_type": "code",
   "execution_count": null,
   "metadata": {},
   "outputs": [],
   "source": [
    "scaler = MinMaxScaler()\n",
    "X_train = scaler.fit_transform(X_train)\n",
    "X_test = scaler.transform(X_test)"
   ]
  },
  {
   "cell_type": "code",
   "execution_count": null,
   "metadata": {},
   "outputs": [],
   "source": [
    "results = []"
   ]
  },
  {
   "cell_type": "code",
   "execution_count": null,
   "metadata": {},
   "outputs": [],
   "source": [
    "name = 'lin_reg'\n",
    "model = LinearRegression()\n",
    "model.fit(X_train, y_train)\n",
    "y_prediction = model.predict(X_test)\n",
    "r = model.score(X_test, y_test)\n",
    "mae = metrics.mean_absolute_error(y_test, y_prediction)\n",
    "mse = metrics.mean_squared_error(y_test, y_prediction)\n",
    "rmse = np.sqrt(metrics.mean_squared_error(y_test, y_prediction))\n",
    "results.append({\"name\": name, \"r\": r, \"mae\": mae, \"mse\": mse, \"rmse\": rmse})\n",
    "print('R:', r)\n",
    "print('MAE:', mae)\n",
    "print('MSE:', mse)\n",
    "print('RMSE:', rmse)"
   ]
  },
  {
   "cell_type": "code",
   "execution_count": null,
   "metadata": {},
   "outputs": [],
   "source": [
    "name = \"lasso\"\n",
    "model = Lasso(alpha=0.01)\n",
    "model.fit(X_train, y_train)\n",
    "y_prediction = model.predict(X_test)\n",
    "r = model.score(X_test, y_test)\n",
    "mae = metrics.mean_absolute_error(y_test, y_prediction)\n",
    "mse = metrics.mean_squared_error(y_test, y_prediction)\n",
    "rmse = np.sqrt(metrics.mean_squared_error(y_test, y_prediction))\n",
    "results.append({\"name\": name, \"r\": r, \"mae\": mae, \"mse\": mse, \"rmse\": rmse})\n",
    "print('R:', r)\n",
    "print('MAE:', mae)\n",
    "print('MSE:', mse)\n",
    "print('RMSE:', rmse)"
   ]
  },
  {
   "cell_type": "code",
   "execution_count": null,
   "metadata": {},
   "outputs": [],
   "source": [
    "name = \"ridge\"\n",
    "model = Ridge(alpha=0.1)\n",
    "model.fit(X_train, y_train)\n",
    "y_prediction = model.predict(X_test)\n",
    "r = model.score(X_test, y_test)\n",
    "mae = metrics.mean_absolute_error(y_test, y_prediction)\n",
    "mse = metrics.mean_squared_error(y_test, y_prediction)\n",
    "rmse = np.sqrt(metrics.mean_squared_error(y_test, y_prediction))\n",
    "results.append({\"name\": name, \"r\": r, \"mae\": mae, \"mse\": mse, \"rmse\": rmse})\n",
    "print('R:', r)\n",
    "print('MAE:', mae)\n",
    "print('MSE:', mse)\n",
    "print('RMSE:', rmse)"
   ]
  },
  {
   "cell_type": "code",
   "execution_count": null,
   "metadata": {},
   "outputs": [],
   "source": [
    "name = \"rfecv\"\n",
    "regressor = LinearRegression()\n",
    "model = RFECV(regressor, step=1, cv=10)\n",
    "model = model.fit(X_train, y_train)\n",
    "y_prediction = model.predict(X_test)\n",
    "r = model.score(X_test, y_test)\n",
    "mae = metrics.mean_absolute_error(y_test, y_prediction)\n",
    "mse = metrics.mean_squared_error(y_test, y_prediction)\n",
    "rmse = np.sqrt(metrics.mean_squared_error(y_test, y_prediction))\n",
    "results.append({\"name\": name, \"r\": r, \"mae\": mae, \"mse\": mse, \"rmse\": rmse})\n",
    "print('R:', r)\n",
    "print('MAE:', mae)\n",
    "print('MSE:', mse)\n",
    "print('RMSE:', rmse)"
   ]
  },
  {
   "cell_type": "code",
   "execution_count": null,
   "metadata": {},
   "outputs": [],
   "source": [
    "name = \"rfe\"\n",
    "regressor = LinearRegression()\n",
    "model = RFE(regressor, n_features_to_select=5, step=1)\n",
    "model = model.fit(X_train, y_train)\n",
    "y_prediction = model.predict(X_test)\n",
    "r = model.score(X_test, y_test)\n",
    "mae = metrics.mean_absolute_error(y_test, y_prediction)\n",
    "mse = metrics.mean_squared_error(y_test, y_prediction)\n",
    "rmse = np.sqrt(metrics.mean_squared_error(y_test, y_prediction))\n",
    "results.append({\"name\": name, \"r\": r, \"mae\": mae, \"mse\": mse, \"rmse\": rmse})\n",
    "print('R:', r)\n",
    "print('MAE:', mae)\n",
    "print('MSE:', mse)\n",
    "print('RMSE:', rmse)"
   ]
  },
  {
   "cell_type": "code",
   "execution_count": null,
   "metadata": {},
   "outputs": [],
   "source": [
    "name = \"lassolarscv\"\n",
    "model = LassoLarsCV(cv=5).fit(X, y)\n",
    "model = model.fit(X_train, y_train)\n",
    "y_prediction = model.predict(X_test)\n",
    "r = model.score(X_test, y_test)\n",
    "mae = metrics.mean_absolute_error(y_test, y_prediction)\n",
    "mse = metrics.mean_squared_error(y_test, y_prediction)\n",
    "rmse = np.sqrt(metrics.mean_squared_error(y_test, y_prediction))\n",
    "results.append({\"name\": name, \"r\": r, \"mae\": mae, \"mse\": mse, \"rmse\": rmse})\n",
    "print('R:', r)\n",
    "print('MAE:', mae)\n",
    "print('MSE:', mse)\n",
    "print('RMSE:', rmse)"
   ]
  },
  {
   "cell_type": "code",
   "execution_count": null,
   "metadata": {},
   "outputs": [],
   "source": [
    "name = \"lassolarsic\"\n",
    "model = LassoLarsIC(criterion='aic')\n",
    "model = model.fit(X_train, y_train)\n",
    "y_prediction = model.predict(X_test)\n",
    "r = model.score(X_test, y_test)\n",
    "mae = metrics.mean_absolute_error(y_test, y_prediction)\n",
    "mse = metrics.mean_squared_error(y_test, y_prediction)\n",
    "rmse = np.sqrt(metrics.mean_squared_error(y_test, y_prediction))\n",
    "results.append({\"name\": name, \"r\": r, \"mae\": mae, \"mse\": mse, \"rmse\": rmse})\n",
    "print('R:', r)\n",
    "print('MAE:', mae)\n",
    "print('MSE:', mse)\n",
    "print('RMSE:', rmse)"
   ]
  },
  {
   "cell_type": "code",
   "execution_count": null,
   "metadata": {},
   "outputs": [],
   "source": [
    "name = \"SR\"\n",
    "\n",
    "ql = feyn.connect_qlattice()\n",
    "ql.reset(random_seed=42)\n",
    "\n",
    "train, test = feyn.tools.split(df, ratio=(3, 1), random_state=42)\n",
    "\n",
    "\n",
    "stypes = {\n",
    "    'neighbourhood_group': 'c',\n",
    "    'neighbourhood': 'c',\n",
    "    'room_type': 'c'\n",
    "}\n",
    "models = ql.auto_run(\n",
    "    train,\n",
    "    output_name='quality',\n",
    "    stypes=stypes\n",
    ")\n",
    "best = models[0]\n",
    "best.plot(train, test)\n",
    "\n",
    "r = best.r2_score(test)\n",
    "mae = best.mae(test)\n",
    "mse = best.mse(test)\n",
    "rmse = best.rmse(test)\n",
    "results.append({\"name\": name, \"r\": r, \"mae\": mae, \"mse\": mse, \"rmse\": rmse})\n",
    "print('R:', r)\n",
    "print('MAE:', mae)\n",
    "print('MSE:', mse)\n",
    "print('RMSE:', rmse)"
   ]
  },
  {
   "cell_type": "code",
   "execution_count": null,
   "metadata": {},
   "outputs": [],
   "source": [
    "best_result = min(results, key=lambda x: x['rmse'])\n",
    "print(\"best result:\", best_result['name'])"
   ]
  }
 ],
 "metadata": {
  "kernelspec": {
   "display_name": "base",
   "language": "python",
   "name": "python3"
  },
  "language_info": {
   "codemirror_mode": {
    "name": "ipython",
    "version": 3
   },
   "file_extension": ".py",
   "mimetype": "text/x-python",
   "name": "python",
   "nbconvert_exporter": "python",
   "pygments_lexer": "ipython3",
   "version": "3.10.8"
  }
 },
 "nbformat": 4,
 "nbformat_minor": 2
}
