{
 "cells": [
  {
   "cell_type": "code",
   "execution_count": 1,
   "id": "831eacac-f858-4fa2-8c63-20bfe091fe3f",
   "metadata": {
    "tags": []
   },
   "outputs": [],
   "source": [
    "import tensorflow as tf\n",
    "import numpy as np\n",
    "import matplotlib.pyplot as plt"
   ]
  },
  {
   "cell_type": "code",
   "execution_count": null,
   "id": "82c55caf",
   "metadata": {},
   "outputs": [],
   "source": [
    "\n",
    "# Definições do problema\n",
    "L = 1.0   # Comprimento da barra\n",
    "T = 10.0   # Tempo final\n",
    "nx = 50   # Número de pontos espaciais\n",
    "nt = 50   # Número de pontos temporais\n",
    "\n",
    "# Malha\n",
    "x = np.linspace(0, L, nx)\n",
    "t = np.linspace(0, T, nt)\n",
    "X, T = np.meshgrid(x, t)\n",
    "X = X.flatten()[:, None]\n",
    "T = T.flatten()[:, None]\n",
    "\n",
    "# Solução analítica para comparação\n",
    "\n",
    "\n",
    "def analytical_solution(x, t):\n",
    "    return np.sin(np.pi * x) * np.exp(-np.pi**2 * t)\n",
    "\n",
    "\n",
    "# Dados de treinamento (solução analítica)\n",
    "u_train = analytical_solution(X, T)\n",
    "\n",
    "# Definindo a rede neural\n",
    "model = tf.keras.Sequential([\n",
    "    tf.keras.layers.InputLayer(input_shape=(2,)),\n",
    "    tf.keras.layers.Dense(50, activation='tanh'),\n",
    "    tf.keras.layers.Dense(50, activation='tanh'),\n",
    "    tf.keras.layers.Dense(1)\n",
    "])\n",
    "\n",
    "# Função de perda\n",
    "\n",
    "\n",
    "def loss_fn(u_pred, u_true):\n",
    "    return tf.reduce_mean(tf.square(u_pred - u_true))\n",
    "\n",
    "\n",
    "# Compilando o modelo\n",
    "model.compile(optimizer='adam', loss=loss_fn)\n",
    "\n",
    "# Treinando a rede neural\n",
    "model.fit(np.hstack((X, T)), u_train, epochs=500, verbose=1)\n",
    "\n",
    "# Predição\n",
    "u_pred = model.predict(np.hstack((X, T)))\n",
    "\n",
    "# Visualização\n",
    "plt.figure(figsize=(10, 6))\n",
    "plt.scatter(X, T, c=u_pred.flatten(), cmap='viridis')\n",
    "plt.colorbar(label='u(x,t)')\n",
    "plt.title('Solução aproximada usando PINN')\n",
    "plt.xlabel('x')\n",
    "plt.ylabel('t')\n",
    "plt.show()"
   ]
  },
  {
   "cell_type": "code",
   "execution_count": null,
   "id": "8150636a-481e-4ec0-b26d-16fb71aa5ea7",
   "metadata": {},
   "outputs": [],
   "source": []
  }
 ],
 "metadata": {
  "kernelspec": {
   "display_name": "Python 3 (ipykernel)",
   "language": "python",
   "name": "python3"
  },
  "language_info": {
   "codemirror_mode": {
    "name": "ipython",
    "version": 3
   },
   "file_extension": ".py",
   "mimetype": "text/x-python",
   "name": "python",
   "nbconvert_exporter": "python",
   "pygments_lexer": "ipython3",
   "version": "3.11.9"
  }
 },
 "nbformat": 4,
 "nbformat_minor": 5
}
