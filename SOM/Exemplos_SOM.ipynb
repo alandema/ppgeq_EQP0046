{
  "nbformat": 4,
  "nbformat_minor": 0,
  "metadata": {
    "colab": {
      "private_outputs": true,
      "provenance": [],
      "toc_visible": true
    },
    "kernelspec": {
      "name": "python3",
      "display_name": "Python 3"
    },
    "language_info": {
      "name": "python"
    }
  },
  "cells": [
    {
      "cell_type": "markdown",
      "source": [
        "Exemplo 1 - Viagem em Cada Ponto"
      ],
      "metadata": {
        "id": "CzCrjz5IIFPF"
      }
    },
    {
      "cell_type": "code",
      "source": [
        "from minisom import MiniSom\n",
        "\n",
        "import numpy as np\n",
        "import matplotlib.pyplot as plt\n",
        "%matplotlib inline"
      ],
      "metadata": {
        "id": "RtluRwPzFq_A"
      },
      "execution_count": null,
      "outputs": []
    },
    {
      "cell_type": "code",
      "source": [
        "np.random.RandomState(10)\n",
        "N_points = 40\n",
        "N_neurons = N_points*2\n",
        "t = np.linspace(0, np.pi*2, N_points)\n",
        "x = np.cos(t)+(np.random.rand(N_points)-.5)*.3\n",
        "y = np.sin(t)+(np.random.rand(N_points)-.5)*.3\n",
        "\n",
        "som = MiniSom(1, N_neurons, 2, sigma=8, learning_rate=.4,\n",
        "              neighborhood_function='gaussian', random_seed=0)\n",
        "points = np.array([x,y]).T\n",
        "som.random_weights_init(points)\n",
        "plt.scatter(x, y)"
      ],
      "metadata": {
        "id": "vgjZ6PE7F5Xa"
      },
      "execution_count": null,
      "outputs": []
    },
    {
      "cell_type": "code",
      "source": [
        "plt.figure(figsize=(10, 9))\n",
        "for i, iterations in enumerate(range(5, 150, 10)):\n",
        "    som.train(points, iterations, verbose=False, random_order=False)\n",
        "    plt.subplot(4, 4, i+1)\n",
        "    plt.scatter(x,y)\n",
        "    visit_order = np.argsort([som.winner(p)[1] for p in points])\n",
        "    visit_order = np.concatenate((visit_order, [visit_order[0]]))\n",
        "    plt.plot(points[visit_order][:,0], points[visit_order][:,1])\n",
        "    plt.title(\"iterations: {i};\\nerror: {e:.3f}\".format(i=iterations,\n",
        "                                                        e=som.quantization_error(points)))\n",
        "    plt.xticks([])\n",
        "    plt.yticks([])\n",
        "plt.tight_layout()\n",
        "plt.show()"
      ],
      "metadata": {
        "id": "thkWsWnfGCKV"
      },
      "execution_count": null,
      "outputs": []
    },
    {
      "cell_type": "markdown",
      "source": [
        "Exemplo 2 - Identificação de Outliers"
      ],
      "metadata": {
        "id": "ga2gEZBZIdN1"
      }
    },
    {
      "cell_type": "code",
      "source": [
        "from sklearn.datasets import make_blobs\n",
        "from sklearn.preprocessing import scale"
      ],
      "metadata": {
        "id": "i_V2uhUsIc6V"
      },
      "execution_count": null,
      "outputs": []
    },
    {
      "cell_type": "code",
      "source": [
        "outliers_percentage = 0.35\n",
        "inliers = 300\n",
        "outliers = int(inliers * outliers_percentage)\n",
        "\n",
        "\n",
        "data = make_blobs(centers=[[2, 2], [-2, -2]], cluster_std=[.3, .3],\n",
        "                  n_samples=inliers, random_state=0)[0]\n",
        "\n",
        "data = scale(data)\n",
        "data = np.concatenate([data,\n",
        "                       (np.random.rand(outliers, 2)-.5)*4.])\n",
        "\n",
        "plt.figure(figsize=(8, 8))\n",
        "plt.scatter(data[:, 0], data[:, 1])\n",
        "plt.show()"
      ],
      "metadata": {
        "id": "E6E3GbCSJiEN"
      },
      "execution_count": null,
      "outputs": []
    },
    {
      "cell_type": "code",
      "source": [
        "som = MiniSom(2, 1, data.shape[1], sigma=1, learning_rate=0.5,\n",
        "              neighborhood_function='triangle', random_seed=10)\n",
        "\n",
        "\n",
        "som.train(data, 100, random_order=False, verbose=True)  # random training\n",
        "\n",
        "quantization_errors = np.linalg.norm(som.quantization(data) - data, axis=1)\n",
        "error_treshold = np.percentile(quantization_errors,\n",
        "                               100*(1-outliers_percentage)+5)\n",
        "\n",
        "print('Error treshold:', error_treshold)\n",
        "\n",
        "is_outlier = quantization_errors > error_treshold\n",
        "\n",
        "plt.hist(quantization_errors)\n",
        "plt.axvline(error_treshold, color='k', linestyle='--')\n",
        "plt.xlabel('error')\n",
        "plt.ylabel('frequency')"
      ],
      "metadata": {
        "id": "RKOt8_8SJnW4"
      },
      "execution_count": null,
      "outputs": []
    }
  ]
}